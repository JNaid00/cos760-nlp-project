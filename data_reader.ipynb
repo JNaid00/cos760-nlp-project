{
 "cells": [
  {
   "cell_type": "code",
   "execution_count": null,
   "id": "232c4b4e",
   "metadata": {},
   "outputs": [],
   "source": [
    "import os\n",
    "import pandas as pd\n",
    "import subprocess\n",
    "from typing import TypedDict\n"
   ]
  },
  {
   "cell_type": "code",
   "execution_count": null,
   "id": "6be9680c",
   "metadata": {},
   "outputs": [
    {
     "name": "stdout",
     "output_type": "stream",
     "text": [
      "Repository exists. Updating...\n",
      "Repository not found. Cloning...\n"
     ]
    }
   ],
   "source": [
    "REPO_URL_NS = \"https://github.com/hausanlp/NaijaSenti.git\"\n",
    "LOCAL_DIR_NS = \"NaijaSenti\"\n",
    "\n",
    "REPO_URL_AS = \"https://github.com/afrisenti-semeval/afrisent-semeval-2023.git\"\n",
    "LOCAL_DIR_AS = \"AfriSenti\"\n",
    "\n",
    "def clone_repo(repo_url: str, local_dir: str) -> None:\n",
    "    if os.path.isdir(local_dir):\n",
    "        print(\"Repository exists. Updating...\")\n",
    "        subprocess.run([\"git\", \"-C\", local_dir, \"pull\", \"origin\", \"main\"], check=True)\n",
    "    else:\n",
    "        print(\"Repository not found. Cloning...\")\n",
    "        subprocess.run([\"git\", \"clone\", repo_url], check=True)\n",
    "\n",
    "clone_repo(REPO_URL_NS, LOCAL_DIR_NS)\n",
    "clone_repo(REPO_URL_AS, LOCAL_DIR_AS)\n"
   ]
  },
  {
   "cell_type": "code",
   "execution_count": null,
   "id": "21743f36",
   "metadata": {},
   "outputs": [],
   "source": [
    "class NsSplit(TypedDict):\n",
    "    dev: pd.DataFrame\n",
    "    test: pd.DataFrame\n",
    "    train: pd.DataFrame\n",
    "    stopwords: list[str]\n",
    "\n",
    "class NsDataset(TypedDict):\n",
    "    hau: NsSplit\n",
    "    ibo: NsSplit\n",
    "    pcm: NsSplit\n",
    "    yor: NsSplit"
   ]
  },
  {
   "cell_type": "code",
   "execution_count": null,
   "id": "ddf8da7d",
   "metadata": {},
   "outputs": [],
   "source": [
    "ns_languages = ['hau', 'ibo', 'pcm', 'yor']\n",
    "ns_languages = [lang for lang in ns_languages if os.path.isdir(os.path.join(f'{LOCAL_DIR_NS}/data/annotated_tweets', lang))]"
   ]
  },
  {
   "cell_type": "code",
   "execution_count": null,
   "id": "31f37549",
   "metadata": {},
   "outputs": [],
   "source": [
    "def load_local_datasets(local_base_dir, languages=ns_languages, splits=['dev','test','train']):\n",
    "    dataset = {}\n",
    "    for lang in languages:\n",
    "        dataset[lang] = {}\n",
    "        for split in splits:\n",
    "            path = os.path.join(local_base_dir, lang, f\"{split}.tsv\")\n",
    "            try:\n",
    "                df = pd.read_csv(path, sep='\\t', encoding='utf-8')\n",
    "                dataset[lang][split] = df\n",
    "            except Exception as e:\n",
    "                print(f\"Failed to load {path}: {e}\")\n",
    "\n",
    "        # Read in stopwords\n",
    "        path = os.path.join(f'{local_base_dir}/stopwords', f\"{lang}.csv\")\n",
    "        try:\n",
    "            stopwords_df = pd.read_csv(path, encoding='utf-8')\n",
    "            dataset[lang]['stopwords'] = stopwords_df['word'].tolist()\n",
    "        except Exception as e:\n",
    "            print(f\"Failed to load stopwords for {lang} from {path}: {e}\")\n",
    "    return dataset\n",
    "\n",
    "\n"
   ]
  },
  {
   "cell_type": "code",
   "execution_count": 39,
   "id": "42b5a129",
   "metadata": {},
   "outputs": [
    {
     "name": "stdout",
     "output_type": "stream",
     "text": [
      "Failed to load stopwords for hau from NaijaSenti/data/annotated_tweets/stopwords\\hau.csv: [Errno 2] No such file or directory: 'NaijaSenti/data/annotated_tweets/stopwords\\\\hau.csv'\n",
      "Failed to load stopwords for ibo from NaijaSenti/data/annotated_tweets/stopwords\\ibo.csv: [Errno 2] No such file or directory: 'NaijaSenti/data/annotated_tweets/stopwords\\\\ibo.csv'\n",
      "Failed to load stopwords for pcm from NaijaSenti/data/annotated_tweets/stopwords\\pcm.csv: [Errno 2] No such file or directory: 'NaijaSenti/data/annotated_tweets/stopwords\\\\pcm.csv'\n",
      "Failed to load stopwords for yor from NaijaSenti/data/annotated_tweets/stopwords\\yor.csv: [Errno 2] No such file or directory: 'NaijaSenti/data/annotated_tweets/stopwords\\\\yor.csv'\n"
     ]
    }
   ],
   "source": [
    "ns_dataset : NsDataset = load_local_datasets(local_base_dir=LOCAL_DIR_NS + '/data/annotated_tweets', languages=ns_languages) "
   ]
  },
  {
   "cell_type": "code",
   "execution_count": null,
   "id": "947ce503",
   "metadata": {},
   "outputs": [
    {
     "name": "stdout",
     "output_type": "stream",
     "text": [
      "Failed to load AfriSenti/data\\hau\\dev.tsv: [Errno 2] No such file or directory: 'AfriSenti/data\\\\hau\\\\dev.tsv'\n",
      "Failed to load AfriSenti/data\\hau\\test.tsv: [Errno 2] No such file or directory: 'AfriSenti/data\\\\hau\\\\test.tsv'\n",
      "Failed to load AfriSenti/data\\hau\\train.tsv: [Errno 2] No such file or directory: 'AfriSenti/data\\\\hau\\\\train.tsv'\n",
      "Failed to load stopwords for hau from AfriSenti/data/stopwords\\hau.csv: [Errno 2] No such file or directory: 'AfriSenti/data/stopwords\\\\hau.csv'\n",
      "Failed to load AfriSenti/data\\ibo\\dev.tsv: [Errno 2] No such file or directory: 'AfriSenti/data\\\\ibo\\\\dev.tsv'\n",
      "Failed to load AfriSenti/data\\ibo\\test.tsv: [Errno 2] No such file or directory: 'AfriSenti/data\\\\ibo\\\\test.tsv'\n",
      "Failed to load AfriSenti/data\\ibo\\train.tsv: [Errno 2] No such file or directory: 'AfriSenti/data\\\\ibo\\\\train.tsv'\n",
      "Failed to load stopwords for ibo from AfriSenti/data/stopwords\\ibo.csv: [Errno 2] No such file or directory: 'AfriSenti/data/stopwords\\\\ibo.csv'\n",
      "Failed to load AfriSenti/data\\pcm\\dev.tsv: [Errno 2] No such file or directory: 'AfriSenti/data\\\\pcm\\\\dev.tsv'\n",
      "Failed to load AfriSenti/data\\pcm\\test.tsv: [Errno 2] No such file or directory: 'AfriSenti/data\\\\pcm\\\\test.tsv'\n",
      "Failed to load AfriSenti/data\\pcm\\train.tsv: [Errno 2] No such file or directory: 'AfriSenti/data\\\\pcm\\\\train.tsv'\n",
      "Failed to load stopwords for pcm from AfriSenti/data/stopwords\\pcm.csv: [Errno 2] No such file or directory: 'AfriSenti/data/stopwords\\\\pcm.csv'\n",
      "Failed to load AfriSenti/data\\yor\\dev.tsv: [Errno 2] No such file or directory: 'AfriSenti/data\\\\yor\\\\dev.tsv'\n",
      "Failed to load AfriSenti/data\\yor\\test.tsv: [Errno 2] No such file or directory: 'AfriSenti/data\\\\yor\\\\test.tsv'\n",
      "Failed to load AfriSenti/data\\yor\\train.tsv: [Errno 2] No such file or directory: 'AfriSenti/data\\\\yor\\\\train.tsv'\n",
      "Failed to load stopwords for yor from AfriSenti/data/stopwords\\yor.csv: [Errno 2] No such file or directory: 'AfriSenti/data/stopwords\\\\yor.csv'\n"
     ]
    }
   ],
   "source": [
    "as_dataset = load_local_datasets(local_base_dir=f'afrisent-semeval-2023/data', languages=ns_languages,)"
   ]
  }
 ],
 "metadata": {
  "kernelspec": {
   "display_name": ".venv",
   "language": "python",
   "name": "python3"
  },
  "language_info": {
   "codemirror_mode": {
    "name": "ipython",
    "version": 3
   },
   "file_extension": ".py",
   "mimetype": "text/x-python",
   "name": "python",
   "nbconvert_exporter": "python",
   "pygments_lexer": "ipython3",
   "version": "3.13.2"
  }
 },
 "nbformat": 4,
 "nbformat_minor": 5
}
