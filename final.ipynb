{
 "cells": [
  {
   "cell_type": "markdown",
   "metadata": {},
   "source": [
    "# Read in Data"
   ]
  },
  {
   "cell_type": "code",
   "execution_count": 2,
   "metadata": {},
   "outputs": [],
   "source": [
    "import pandas as pd\n",
    "import numpy as np\n",
    "from typing import Optional"
   ]
  },
  {
   "cell_type": "code",
   "execution_count": 3,
   "metadata": {},
   "outputs": [],
   "source": [
    "from custom_datasets import MultiLangDataset, SplitSet\n",
    "from custom_datasets import ns_dataset\n",
    "from custom_datasets import Languages\n",
    "from custom_datasets import clean_tweet\n",
    "from constants import TokenizerEnum, VectorizerEnum\n",
    "from sklearn.feature_extraction.text import CountVectorizer\n",
    "from sklearn.feature_extraction.text import TfidfVectorizer\n",
    "from sklearn.pipeline import Pipeline\n",
    "from custom_vectorizers import get_vectorizer"
   ]
  },
  {
   "cell_type": "code",
   "execution_count": 4,
   "metadata": {},
   "outputs": [],
   "source": [
    "from tensorflow.keras.preprocessing.text import Tokenizer\n",
    "from tensorflow.keras.preprocessing.sequence import pad_sequences\n",
    "from tensorflow.keras.optimizers import Adam\n",
    "\n",
    "from tensorflow.keras.models import Sequential\n",
    "from tensorflow.keras.layers import Embedding, GlobalAveragePooling1D, Dense, Dropout,Input, BatchNormalization, Activation\n",
    "from tensorflow.keras.utils import to_categorical"
   ]
  },
  {
   "cell_type": "code",
   "execution_count": 5,
   "metadata": {},
   "outputs": [],
   "source": [
    "YOR_DATASET: SplitSet = ns_dataset.get(Languages.YORUBA)\n",
    "HAU_DATASET: SplitSet = ns_dataset.get(Languages.HAUSA)\n",
    "IBO_DATASET: SplitSet = ns_dataset.get(Languages.IGBO)\n",
    "PCM_DATASET: SplitSet = ns_dataset.get(Languages.NIGERIAN_PIDGIN)"
   ]
  },
  {
   "cell_type": "code",
   "execution_count": 6,
   "metadata": {},
   "outputs": [],
   "source": [
    "# Evaluator\n",
    "from analysis import compare_results\n",
    "\n",
    "# Tokenizer\n",
    "from subword_tokenizer import (\n",
    "    get_tokenizer,\n",
    "    wordpiece_tokenize_dataframe,\n",
    "    get_sentencepiece_tokenizer,\n",
    "    sentencepiece_tokenize_dataframe,\n",
    "    get_wordpiece_tokeized_data,\n",
    "    get_sentencepiece_tokeized_data\n",
    ")\n",
    "\n",
    "# Compare Results\n",
    "from sklearn.metrics import accuracy_score, classification_report"
   ]
  },
  {
   "cell_type": "code",
   "execution_count": 7,
   "metadata": {},
   "outputs": [],
   "source": [
    "def encode_labels(df: pd.DataFrame):\n",
    "    label_mapping = {\"positive\": 0, \"neutral\": 1, \"negative\": 2}\n",
    "    df[\"label_encoded\"] = df[\"label\"].str.lower().map(label_mapping)"
   ]
  },
  {
   "cell_type": "code",
   "execution_count": 8,
   "metadata": {},
   "outputs": [],
   "source": [
    "# VECTORIZER_KWARGS = {\n",
    "#     \"ngram\": (1, 2),\n",
    "#     \"max_features\": 3700,}\n",
    "\n",
    "VECTORIZER_KWARGS = {}"
   ]
  },
  {
   "cell_type": "markdown",
   "metadata": {},
   "source": [
    "# Naive Bayes"
   ]
  },
  {
   "cell_type": "code",
   "execution_count": 9,
   "metadata": {},
   "outputs": [],
   "source": [
    "from sklearn.model_selection import train_test_split\n",
    "from sklearn.naive_bayes import MultinomialNB\n",
    "\n",
    "\n",
    "def naive_bayes(\n",
    "    dataset: SplitSet, vectorizer: VectorizerEnum,  tokenizer: Optional[TokenizerEnum] = None\n",
    ") -> dict:\n",
    "    \"\"\"\n",
    "    Naive Bayes classifier for text classification.\n",
    "    Args:\n",
    "        dataset (SplitSet): The dataset to use for training and testing.\n",
    "        tokenizer (TokenizerEnum): The tokenizer to use.\n",
    "        If tokenizer is None, then no tokenization is applied. Only vectorization is applied.\n",
    "        vectorizer (VectorizerEnum): The vectorizer to use.\n",
    "    Returns:\n",
    "        dict: A dictionary containing the results of the classification.\n",
    "        Returns a classification report\n",
    "    \"\"\"\n",
    "    \n",
    "    X_train, y_train = dataset.train[\"tweet\"], dataset.train[\"label\"]\n",
    "    X_test, y_test = dataset.test[\"tweet\"], dataset.test[\"label\"]\n",
    "\n",
    "    if tokenizer is TokenizerEnum.SENTENCEPIECE:\n",
    "        print(\"Using SentencePiece tokenizer\")\n",
    "        sp_tokenizer = get_sentencepiece_tokenizer(\n",
    "            df=dataset.train,\n",
    "        )\n",
    "\n",
    "        def sentencepiece_tokenizer(text):\n",
    "            return sp_tokenizer.encode(text, out_type=str)\n",
    "\n",
    "        vectorizer = (\n",
    "            CountVectorizer(tokenizer=sentencepiece_tokenizer)\n",
    "            if vectorizer == VectorizerEnum.BOW\n",
    "            else TfidfVectorizer(tokenizer=sentencepiece_tokenizer)\n",
    "        )\n",
    "    elif tokenizer is TokenizerEnum.WORDPIECE:\n",
    "        print(\"Using WordPiece tokenizer\")\n",
    "        wp_tokenizer = get_tokenizer(\n",
    "            df=dataset.train,\n",
    "        )\n",
    "\n",
    "        def wordpiece_tokenizer(text):\n",
    "            return wp_tokenizer.encode(text).tokens\n",
    "\n",
    "        vectorizer = (\n",
    "            CountVectorizer(tokenizer=wordpiece_tokenizer)\n",
    "            if vectorizer == VectorizerEnum.BOW\n",
    "            else TfidfVectorizer(tokenizer=wordpiece_tokenizer)\n",
    "        )\n",
    "    elif tokenizer is None:\n",
    "        vectorizer = (\n",
    "            CountVectorizer(stop_words=dataset.stopwords)\n",
    "            if vectorizer == VectorizerEnum.BOW\n",
    "            else TfidfVectorizer(stop_words=dataset.stopwords)\n",
    "        )\n",
    "\n",
    "    model = Pipeline(\n",
    "        [\n",
    "            (\"vectorizer\", vectorizer),\n",
    "            (\"classifier\", MultinomialNB()),\n",
    "        ]\n",
    "    )\n",
    "\n",
    "    model.fit(X_train, y_train)\n",
    "\n",
    "    y_pred = model.predict(X_test)\n",
    "    word_result: dict = classification_report(y_test, y_pred, output_dict=True)\n",
    "    return word_result"
   ]
  },
  {
   "cell_type": "markdown",
   "metadata": {},
   "source": [
    "# Logistic Regression"
   ]
  },
  {
   "cell_type": "code",
   "execution_count": 11,
   "metadata": {},
   "outputs": [],
   "source": [
    "from sklearn.linear_model import LogisticRegression\n",
    "\n",
    "\n",
    "def logistic_regression(\n",
    "    dataset: SplitSet, vectorizer: VectorizerEnum,  tokenizer: Optional[TokenizerEnum] = None\n",
    ") -> dict:\n",
    "    \"\"\"\n",
    "    Logistic Regression classifier for text classification.\n",
    "    Args:\n",
    "        dataset (SplitSet): The dataset to use for training and testing.\n",
    "        tokenizer (TokenizerEnum): The tokenizer to use.\n",
    "        If tokenizer is None, then no tokenization is applied. Only vectorization is applied.\n",
    "        vectorizer (VectorizerEnum): The vectorizer to use.\n",
    "    Returns:\n",
    "        dict: A dictionary containing the results of the classification.\n",
    "        Returns a classification report\n",
    "    \"\"\"\n",
    "    X_train, y_train = dataset.train[\"tweet\"], dataset.train[\"label\"]\n",
    "    X_test, y_test = dataset.test[\"tweet\"], dataset.test[\"label\"]\n",
    "\n",
    "    if tokenizer is TokenizerEnum.SENTENCEPIECE:\n",
    "        print(\"Using SentencePiece tokenizer\")\n",
    "        sp_tokenizer = get_sentencepiece_tokenizer(\n",
    "            df=dataset.train,\n",
    "        )\n",
    "\n",
    "        def sentencepiece_tokenizer(text):\n",
    "            return sp_tokenizer.encode(text, out_type=str)\n",
    "\n",
    "        vectorizer = (\n",
    "            CountVectorizer(tokenizer=sentencepiece_tokenizer)\n",
    "            if vectorizer == VectorizerEnum.BOW\n",
    "            else TfidfVectorizer(tokenizer=sentencepiece_tokenizer)\n",
    "        )\n",
    "    elif tokenizer is TokenizerEnum.WORDPIECE:\n",
    "        print(\"Using WordPiece tokenizer\")\n",
    "        wp_tokenizer = get_tokenizer(\n",
    "            df=dataset.train,\n",
    "        )\n",
    "\n",
    "        def wordpiece_tokenizer(text):\n",
    "            return wp_tokenizer.encode(text).tokens\n",
    "\n",
    "        vectorizer = (\n",
    "            CountVectorizer(tokenizer=wordpiece_tokenizer)\n",
    "            if vectorizer == VectorizerEnum.BOW\n",
    "            else TfidfVectorizer(tokenizer=wordpiece_tokenizer)\n",
    "        )\n",
    "    elif tokenizer is None:\n",
    "        vectorizer = (\n",
    "            CountVectorizer(stop_words=dataset.stopwords)\n",
    "            if vectorizer == VectorizerEnum.BOW\n",
    "            else TfidfVectorizer(stop_words=dataset.stopwords)\n",
    "        )\n",
    "\n",
    "    model = Pipeline(\n",
    "        [\n",
    "            (\"vectorizer\", vectorizer),\n",
    "            (\"classifier\", LogisticRegression(max_iter=2000)),\n",
    "        ]\n",
    "    )\n",
    "\n",
    "    model.fit(X_train, y_train)\n",
    "\n",
    "    y_pred = model.predict(X_test)\n",
    "    word_result: dict = classification_report(y_test, y_pred, output_dict=True)\n",
    "    return word_result"
   ]
  },
  {
   "cell_type": "markdown",
   "metadata": {},
   "source": [
    "# Neural Network"
   ]
  },
  {
   "cell_type": "code",
   "execution_count": null,
   "metadata": {},
   "outputs": [],
   "source": [
    "\n",
    "\n",
    "\n",
    "def neural_network(\n",
    "    dataset: SplitSet, vectorizer: VectorizerEnum,  tokenizer: Optional[TokenizerEnum] = None, clean_tweets: bool = True\n",
    ") -> dict:\n",
    "    \"\"\"\n",
    "    Neural Network classifier for text classification.\n",
    "    Args:\n",
    "        dataset (SplitSet): The dataset to use for training and testing.\n",
    "        tokenizer (TokenizerEnum): The tokenizer to use.\n",
    "        If tokenizer is None, then no tokenization is applied. Only vectorization is applied.\n",
    "        vectorizer (VectorizerEnum): The vectorizer to use.\n",
    "    Returns:\n",
    "        dict: A dictionary containing the results of the classification.\n",
    "        Returns a classification report\n",
    "    \"\"\"\n",
    "    pass\n",
    "\n",
    "    df = dataset.train\n",
    "    # encode_labels(df)\n",
    "    if clean_tweets:\n",
    "        df['cleaned_tweet'] = df['tweet'].apply(clean_tweet)\n",
    "    encode_labels(df)\n",
    "\n",
    "    if tokenizer is not None:\n",
    "        neural_input = get_wordpiece_tokeized_data(\n",
    "            df,\n",
    "            vocab_size=3700,\n",
    "            tweet_column=\"cleaned_tweet\",\n",
    "            vectorizer_kwargs={\"ngram\": (1, 2), \"max_features\": None},\n",
    "        )\n",
    "    elif tokenizer == TokenizerEnum.SENTENCEPIECE:\n",
    "        neural_input = get_sentencepiece_tokeized_data(\n",
    "            df,\n",
    "            vocab_size=3700,\n",
    "            tweet_column=\"cleaned_tweet\",\n",
    "            vectorizer_kwargs={\"ngram\": (1, 2), \"max_features\": None},\n",
    "        )\n",
    "\n",
    "    model = Sequential()\n",
    "    model.add(Input(shape=(neural_input.X_train.shape[1],)))\n",
    "\n",
    "    # Dense layers for TF-IDF input\n",
    "    # (512, 256, 128)\n",
    "    # (8, 4, 2)\n",
    "    model.add(Dense(512))\n",
    "    model.add(BatchNormalization())\n",
    "    model.add(Activation(\"relu\"))\n",
    "    model.add(Dropout(0.4))\n",
    "    model.add(Dense(256))\n",
    "    model.add(BatchNormalization())\n",
    "    model.add(Activation(\"relu\"))\n",
    "    model.add(Dropout(0.2))\n",
    "    model.add(Dense(128))\n",
    "    model.add(BatchNormalization())\n",
    "    model.add(Dense(3, activation=\"softmax\"))\n",
    "\n",
    "    model.compile(\n",
    "        loss=\"sparse_categorical_crossentropy\",\n",
    "        optimizer=Adam(),\n",
    "        metrics=[\"accuracy\"],\n",
    "    )\n",
    "\n",
    "    X = np.array(neural_input.get_dense_X_train())\n",
    "    y = np.array(neural_input.y_train)\n",
    "\n",
    "    model.fit(X, y, epochs=10, batch_size=64, verbose=1)\n",
    "\n",
    "    # Evaluate the model\n",
    "    # model.evaluate(neural_input.X_test, neural_input.y_test)\n",
    "    y_pred = model.predict(\n",
    "        np.array(neural_input.get_dense_X_test()),\n",
    "    )\n",
    "    y_pred_classes = np.argmax(y_pred, axis=1)\n",
    "    accuracy = accuracy_score(neural_input.y_test, y_pred_classes)\n",
    "    print(f\"Accuracy with filtered tweets {accuracy:.4f}\")\n",
    "\n",
    "    \n",
    "    return classification_report(\n",
    "            neural_input.y_test,\n",
    "            y_pred_classes,\n",
    "            target_names=[\"positive\", \"neutral\", \"negative\"],\n",
    "            output_dict=True\n",
    "        )\n",
    "    "
   ]
  },
  {
   "cell_type": "code",
   "execution_count": null,
   "metadata": {},
   "outputs": [],
   "source": [
    "nn_yor_kwargs ={\n",
    "    \"nn_yor_wp_clean\":{\n",
    "        \"dataset\": YOR_DATASET,\n",
    "        \"vectorizer\": VectorizerEnum.TFIDF,\n",
    "        \"tokenizer\": TokenizerEnum.WORDPIECE,\n",
    "        \"clean_tweets\": True\n",
    "    },\n",
    "    \"nn_yor_wp_no_clean\":{\n",
    "        \"dataset\": YOR_DATASET,\n",
    "        \"vectorizer\": VectorizerEnum.TFIDF,\n",
    "        \"tokenizer\": TokenizerEnum.WORDPIECE,\n",
    "        \"clean_tweets\": False\n",
    "    },\n",
    "    \"nn_yor_sp_clean\" : {\n",
    "        \"dataset\": YOR_DATASET,\n",
    "        \"vectorizer\": VectorizerEnum.TFIDF,\n",
    "        \"tokenizer\": TokenizerEnum.SENTENCEPIECE,\n",
    "        \"clean_tweets\": True\n",
    "    },\n",
    "    \"nn_yor_sp_no_clean\" : {\n",
    "        \"dataset\": YOR_DATASET,\n",
    "        \"vectorizer\": VectorizerEnum.TFIDF,\n",
    "        \"tokenizer\": TokenizerEnum.SENTENCEPIECE,\n",
    "        \"clean_tweets\": False\n",
    "    }\n",
    "}\n",
    "\n",
    "nn_yor_wp = neural_network(**nn_yor_kwargs[\"nn_yor_wp_clean\"])\n",
    "nn_yor_wp_no_clean = neural_network(**nn_yor_kwargs[\"nn_yor_wp_no_clean\"])\n",
    "nn_yor_sp = neural_network(**nn_yor_kwargs[\"nn_yor_sp_clean\"])\n",
    "nn_yor_sp_no_clean = neural_network(**nn_yor_kwargs[\"nn_yor_sp_no_clean\"])\n",
    "\n",
    "\n",
    "compare_results(\n",
    "    normal_result=nn_yor_wp,\n",
    "    subword_result=nn_yor_sp,\n",
    ")\n",
    "\n",
    "compare_results(\n",
    "    normal_result=nn_yor_sp,\n",
    "    subword_result=nn_yor_wp,\n",
    ")\n",
    "\n",
    "compare_results(\n",
    "    normal_result=nn_yor_wp_no_clean,\n",
    "    subword_result=nn_yor_sp_no_clean,\n",
    ")"
   ]
  },
  {
   "cell_type": "code",
   "execution_count": null,
   "metadata": {},
   "outputs": [],
   "source": []
  },
  {
   "cell_type": "code",
   "execution_count": null,
   "metadata": {},
   "outputs": [],
   "source": [
    "result1 = neural_network(\n",
    "    dataset=YOR_DATASET,\n",
    "    vectorizer=VectorizerEnum.TFIDF,\n",
    "    tokenizer=TokenizerEnum.WORDPIECE,\n",
    ")\n",
    "result2 = neural_network(\n",
    "    dataset=YOR_DATASET,\n",
    "    vectorizer=VectorizerEnum.TFIDF,\n",
    "    tokenizer=TokenizerEnum.WORDPIECE,\n",
    "    clean_tweets=False\n",
    ")\n",
    "\n",
    "compare_results(normal_result=result1, subword_result=result2)"
   ]
  },
  {
   "cell_type": "code",
   "execution_count": 12,
   "metadata": {},
   "outputs": [
    {
     "name": "stderr",
     "output_type": "stream",
     "text": [
      "c:\\Users\\jesse\\Dev\\cos760-nlp-project\\.venv\\Lib\\site-packages\\sklearn\\feature_extraction\\text.py:402: UserWarning: Your stop_words may be inconsistent with your preprocessing. Tokenizing the stop words generated tokens ['fẹ', 'jẹ', 'rẹ', 'rọ', 'wọ'] not in stop_words.\n",
      "  warnings.warn(\n"
     ]
    },
    {
     "name": "stdout",
     "output_type": "stream",
     "text": [
      "Using WordPiece tokenizer\n"
     ]
    },
    {
     "name": "stderr",
     "output_type": "stream",
     "text": [
      "c:\\Users\\jesse\\Dev\\cos760-nlp-project\\.venv\\Lib\\site-packages\\sklearn\\feature_extraction\\text.py:517: UserWarning: The parameter 'token_pattern' will not be used since 'tokenizer' is not None'\n",
      "  warnings.warn(\n"
     ]
    },
    {
     "name": "stdout",
     "output_type": "stream",
     "text": [
      "Normal Tokenization Results:\n",
      "              precision  recall  f1-score   support\n",
      "negative          0.640   0.530     0.580   981.000\n",
      "neutral           0.728   0.679     0.703  1616.000\n",
      "positive          0.730   0.836     0.779  1918.000\n",
      "accuracy          0.713   0.713     0.713     0.713\n",
      "macro avg         0.699   0.682     0.687  4515.000\n",
      "weighted avg      0.710   0.713     0.709  4515.000\n",
      "--------------------------------------------------\n",
      "Subword Tokenization Results:\n",
      "              precision  recall  f1-score   support\n",
      "negative          0.573   0.669     0.617   981.000\n",
      "neutral           0.738   0.640     0.685  1616.000\n",
      "positive          0.778   0.799     0.789  1918.000\n",
      "accuracy          0.714   0.714     0.714     0.714\n",
      "macro avg         0.697   0.703     0.697  4515.000\n",
      "weighted avg      0.719   0.714     0.714  4515.000\n",
      "--------------------------------------------------\n",
      "\n",
      "📊 Class-Level Breakdown with Deltas:\n",
      "      class  normal_precision  subword_precision  diff_precision  \\\n",
      "0  negative          0.640394           0.573427       -0.066968   \n",
      "1   neutral          0.728420           0.738044        0.009625   \n",
      "2  positive          0.729631           0.778173        0.048541   \n",
      "\n",
      "   normal_recall  subword_recall  diff_recall  normal_f1-score  \\\n",
      "0       0.530071        0.668705     0.138634         0.580033   \n",
      "1       0.678837        0.639851    -0.038985         0.702755   \n",
      "2       0.835766        0.799270    -0.036496         0.779101   \n",
      "\n",
      "   subword_f1-score  diff_f1-score  \n",
      "0          0.617412       0.037378  \n",
      "1          0.685449      -0.017306  \n",
      "2          0.788580       0.009479  \n"
     ]
    },
    {
     "name": "stderr",
     "output_type": "stream",
     "text": [
      "c:\\Users\\jesse\\Dev\\cos760-nlp-project\\analysis.py:66: UserWarning: Glyph 128293 (\\N{FIRE}) missing from font(s) DejaVu Sans.\n",
      "  plt.tight_layout()\n",
      "c:\\Users\\jesse\\Dev\\cos760-nlp-project\\.venv\\Lib\\site-packages\\IPython\\core\\pylabtools.py:170: UserWarning: Glyph 128293 (\\N{FIRE}) missing from font(s) DejaVu Sans.\n",
      "  fig.canvas.print_figure(bytes_io, **kw)\n"
     ]
    },
    {
     "data": {
      "image/png": "[encoded data removed]",
      "text/plain": [
       "<Figure size 800x400 with 2 Axes>"
      ]
     },
     "metadata": {},
     "output_type": "display_data"
    },
    {
     "name": "stdout",
     "output_type": "stream",
     "text": [
      "\n",
      "✅ Overall Summary:\n",
      "               Normal   Subword      Diff\n",
      "Accuracy     0.713178  0.713843  0.000664\n",
      "Macro F1     0.687296  0.697147  0.009851\n",
      "Weighted F1  0.708523  0.714477  0.005954\n",
      "\n",
      "🧠 Final Conclusion:\n",
      "→ Subword tokenization achieves better overall accuracy.\n",
      "→ Class-wise, Subword tokenization improves recall for 'negative' but underperforms on 'neutral' and 'positive' in both recall and F1.\n",
      "→ Overall, normal tokenization provides more balanced and accurate classification.\n",
      "\n",
      "Analysis complete.\n",
      "\n",
      "--------------------------------------------------\n",
      "--------------------------------------------------\n",
      "\n"
     ]
    }
   ],
   "source": [
    "result1 = logistic_regression(dataset=YOR_DATASET, vectorizer=VectorizerEnum.TFIDF)\n",
    "result2 = logistic_regression(\n",
    "    dataset=YOR_DATASET,\n",
    "    vectorizer=VectorizerEnum.TFIDF,\n",
    "    tokenizer=TokenizerEnum.WORDPIECE,\n",
    ")\n",
    "\n",
    "compare_results(normal_result=result1, subword_result=result2)"
   ]
  },
  {
   "cell_type": "code",
   "execution_count": 10,
   "metadata": {},
   "outputs": [
    {
     "name": "stderr",
     "output_type": "stream",
     "text": [
      "c:\\Users\\jesse\\Dev\\cos760-nlp-project\\.venv\\Lib\\site-packages\\sklearn\\feature_extraction\\text.py:402: UserWarning: Your stop_words may be inconsistent with your preprocessing. Tokenizing the stop words generated tokens ['fẹ', 'jẹ', 'rẹ', 'rọ', 'wọ'] not in stop_words.\n",
      "  warnings.warn(\n"
     ]
    },
    {
     "name": "stdout",
     "output_type": "stream",
     "text": [
      "Using WordPiece tokenizer\n"
     ]
    },
    {
     "name": "stderr",
     "output_type": "stream",
     "text": [
      "c:\\Users\\jesse\\Dev\\cos760-nlp-project\\.venv\\Lib\\site-packages\\sklearn\\feature_extraction\\text.py:517: UserWarning: The parameter 'token_pattern' will not be used since 'tokenizer' is not None'\n",
      "  warnings.warn(\n"
     ]
    },
    {
     "name": "stdout",
     "output_type": "stream",
     "text": [
      "Normal Tokenization Results:\n",
      "              precision  recall  f1-score   support\n",
      "negative          0.852   0.111     0.197   981.000\n",
      "neutral           0.667   0.703     0.684  1616.000\n",
      "positive          0.628   0.879     0.732  1918.000\n",
      "accuracy          0.649   0.649     0.649     0.649\n",
      "macro avg         0.715   0.564     0.538  4515.000\n",
      "weighted avg      0.690   0.649     0.599  4515.000\n",
      "--------------------------------------------------\n",
      "Subword Tokenization Results:\n",
      "              precision  recall  f1-score   support\n",
      "negative          0.826   0.276     0.414   981.000\n",
      "neutral           0.699   0.700     0.699  1616.000\n",
      "positive          0.666   0.892     0.763  1918.000\n",
      "accuracy          0.689   0.689     0.689     0.689\n",
      "macro avg         0.730   0.623     0.625  4515.000\n",
      "weighted avg      0.713   0.689     0.664  4515.000\n",
      "--------------------------------------------------\n",
      "\n",
      "📊 Class-Level Breakdown with Deltas:\n",
      "      class  normal_precision  subword_precision  diff_precision  \\\n",
      "0  negative          0.851562           0.826220       -0.025343   \n",
      "1   neutral          0.666667           0.699011        0.032344   \n",
      "2  positive          0.628028           0.666018        0.037990   \n",
      "\n",
      "   normal_recall  subword_recall  diff_recall  normal_f1-score  \\\n",
      "0       0.111111        0.276249     0.165138         0.196573   \n",
      "1       0.702970        0.699876    -0.003094         0.684337   \n",
      "2       0.878519        0.892075     0.013556         0.732449   \n",
      "\n",
      "   subword_f1-score  diff_f1-score  \n",
      "0          0.414057       0.217483  \n",
      "1          0.699443       0.015106  \n",
      "2          0.762648       0.030198  \n"
     ]
    },
    {
     "name": "stderr",
     "output_type": "stream",
     "text": [
      "c:\\Users\\jesse\\Dev\\cos760-nlp-project\\analysis.py:66: UserWarning: Glyph 128293 (\\N{FIRE}) missing from font(s) DejaVu Sans.\n",
      "  plt.tight_layout()\n",
      "c:\\Users\\jesse\\Dev\\cos760-nlp-project\\.venv\\Lib\\site-packages\\IPython\\core\\pylabtools.py:170: UserWarning: Glyph 128293 (\\N{FIRE}) missing from font(s) DejaVu Sans.\n",
      "  fig.canvas.print_figure(bytes_io, **kw)\n"
     ]
    },
    {
     "data": {
      "image/png": "[encoded data removed]",
      "text/plain": [
       "<Figure size 800x400 with 2 Axes>"
      ]
     },
     "metadata": {},
     "output_type": "display_data"
    },
    {
     "name": "stdout",
     "output_type": "stream",
     "text": [
      "\n",
      "✅ Overall Summary:\n",
      "               Normal   Subword      Diff\n",
      "Accuracy     0.648948  0.689480  0.040532\n",
      "Macro F1     0.537787  0.625383  0.087596\n",
      "Weighted F1  0.598796  0.664285  0.065489\n",
      "\n",
      "🧠 Final Conclusion:\n",
      "→ Subword tokenization achieves better overall accuracy.\n",
      "→ Class-wise, Subword tokenization improves recall for 'negative' but underperforms on 'neutral' and 'positive' in both recall and F1.\n",
      "→ Overall, normal tokenization provides more balanced and accurate classification.\n",
      "\n",
      "Analysis complete.\n",
      "\n",
      "--------------------------------------------------\n",
      "--------------------------------------------------\n",
      "\n"
     ]
    }
   ],
   "source": [
    "result1 = naive_bayes(dataset=YOR_DATASET, vectorizer=VectorizerEnum.TFIDF)\n",
    "result2 = naive_bayes(\n",
    "    dataset=YOR_DATASET,\n",
    "    vectorizer=VectorizerEnum.TFIDF,\n",
    "    tokenizer=TokenizerEnum.WORDPIECE,\n",
    ")\n",
    "\n",
    "compare_results(normal_result=result1, subword_result=result2)"
   ]
  }
 ],
 "metadata": {
  "kernelspec": {
   "display_name": ".venv",
   "language": "python",
   "name": "python3"
  },
  "language_info": {
   "codemirror_mode": {
    "name": "ipython",
    "version": 3
   },
   "file_extension": ".py",
   "mimetype": "text/x-python",
   "name": "python",
   "nbconvert_exporter": "python",
   "pygments_lexer": "ipython3",
   "version": "3.12.10"
  }
 },
 "nbformat": 4,
 "nbformat_minor": 2
}
